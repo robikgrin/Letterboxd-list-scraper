{
 "cells": [
  {
   "cell_type": "code",
   "execution_count": 2,
   "metadata": {},
   "outputs": [
    {
     "name": "stdout",
     "output_type": "stream",
     "text": [
      "=============================================\n",
      "           Letterboxd-List-Scraper           \n",
      "=============================================\n",
      "        infile:         target_lists.txt\n",
      "        output_path:    scraper_outputs\n",
      "        concat:         False\n",
      "        threads:        4\n",
      "        verbose:        True\n",
      "=============================================\n",
      "\n",
      "A total of 3 URLs were read-in from target_lists.txt!\n",
      "\n",
      "Checking inputs for URL 1/3...\n",
      "    url:         https://letterboxd.com/bjornbork/watchlist/decade/2020s/\n",
      "    username:    bjornbork\n",
      "    type:        watchlist\n",
      "    page_select: *\n",
      "    output_name: bjornbork-watchlist-decade-2020s.csv\n",
      "\n",
      "Checking inputs for URL 2/3...\n",
      "    url:         https://letterboxd.com/dave/list/official-top-250-narrative-feature-films/\n",
      "    username:    dave\n",
      "    type:        list\n",
      "    page_select: *\n",
      "    output_name: lb_top250.csv\n",
      "\n",
      "Checking inputs for URL 3/3...\n",
      "    url:         https://letterboxd.com/films/popular/this/month/\n",
      "    username:    Letterboxd\n",
      "    type:        LBfilms\n",
      "    page_select: 1\n",
      "    output_name: LBfilms-popular-this-month.csv\n",
      "\n",
      "Initialization successful!\n",
      "\n",
      "Starting the scraping process with 4 available threads...\n",
      "\n",
      "    Scraping https://letterboxd.com/bjornbork/watchlist/decade/2020s/...\n",
      "    Scraping https://letterboxd.com/dave/list/official-top-250-narrative-feature-films/...\n",
      "    Scraping https://letterboxd.com/films/popular/this/month/...\n",
      "        No films on page 1...\n",
      "\n",
      "Program successfully finished! Your .csv(s) can be found in ./scraper_outputs/.\n",
      "    Total run time was 0.00 seconds.\n"
     ]
    }
   ],
   "source": [
    "!python -m listscraper -f target_lists.txt"
   ]
  }
 ],
 "metadata": {
  "kernelspec": {
   "display_name": "Python 3",
   "language": "python",
   "name": "python3"
  },
  "language_info": {
   "codemirror_mode": {
    "name": "ipython",
    "version": 3
   },
   "file_extension": ".py",
   "mimetype": "text/x-python",
   "name": "python",
   "nbconvert_exporter": "python",
   "pygments_lexer": "ipython3",
   "version": "3.12.7"
  }
 },
 "nbformat": 4,
 "nbformat_minor": 2
}
